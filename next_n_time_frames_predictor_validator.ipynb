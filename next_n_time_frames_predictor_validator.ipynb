{
 "cells": [
  {
   "cell_type": "code",
   "execution_count": null,
   "id": "2e898e72",
   "metadata": {},
   "outputs": [],
   "source": [
    "from src import main as mn\n",
    "%load_ext autoreload\n",
    "%autoreload 2"
   ]
  },
  {
   "cell_type": "code",
   "execution_count": null,
   "id": "0acfe60a",
   "metadata": {},
   "outputs": [],
   "source": [
    "mn.download_tables()"
   ]
  },
  {
   "cell_type": "code",
   "execution_count": null,
   "id": "7c5d5f9c",
   "metadata": {},
   "outputs": [],
   "source": [
    "import pandas as pd"
   ]
  },
  {
   "cell_type": "code",
   "execution_count": null,
   "id": "ee9ae2be",
   "metadata": {},
   "outputs": [],
   "source": [
    "aapl_1d = pd.read_pickle('./data/AAPL_1d_df.pkl')\n",
    "aapl_1d = aapl_1d.rename(columns={'Adj Close': 'ac',\n",
    "                                  'Open': 'o',\n",
    "                                  'Close': 'c',\n",
    "                                  'High': 'h',\n",
    "                                  'Low': 'l',\n",
    "                                  'Volume': 'v',\n",
    "                                 },\n",
    "                         inplace=True,\n",
    "                        )\n",
    "\n",
    "aapl_1h = pd.read_pickle('./data/AAPL_1h_df.pkl')\n",
    "aapl_1h = aapl_1h.rename(columns={'Adj Close': 'ac',\n",
    "                                  'Open': 'o',\n",
    "                                  'Close': 'c',\n",
    "                                  'High': 'h',\n",
    "                                  'Low': 'l',\n",
    "                                  'Volume': 'v',\n",
    "                                 },\n",
    "                         inplace=True,\n",
    "                        )\n"
   ]
  },
  {
   "cell_type": "code",
   "execution_count": null,
   "id": "8a8f1de9",
   "metadata": {},
   "outputs": [],
   "source": [
    "type(aapl_1d)"
   ]
  },
  {
   "cell_type": "code",
   "execution_count": null,
   "id": "de5ee78f",
   "metadata": {},
   "outputs": [],
   "source": [
    "aapl_1d"
   ]
  },
  {
   "cell_type": "code",
   "execution_count": null,
   "id": "ec668bd2",
   "metadata": {},
   "outputs": [],
   "source": [
    "pd.__version__"
   ]
  },
  {
   "cell_type": "code",
   "execution_count": null,
   "id": "cc41a79d",
   "metadata": {
    "scrolled": true
   },
   "outputs": [],
   "source": [
    "aapl_1d['ac_pct1'] = aapl_1d['ac'].pct_change(1)"
   ]
  },
  {
   "cell_type": "code",
   "execution_count": null,
   "id": "e0d6a7b2",
   "metadata": {},
   "outputs": [],
   "source": []
  },
  {
   "cell_type": "code",
   "execution_count": null,
   "id": "8a2d31ba",
   "metadata": {},
   "outputs": [],
   "source": [
    "aapl_1d['ac_pct1'].std()"
   ]
  },
  {
   "cell_type": "code",
   "execution_count": null,
   "id": "edca53b4",
   "metadata": {},
   "outputs": [],
   "source": [
    "aapl_1h['ac_pct1'] = aapl_1h['ac'].pct_change(1)"
   ]
  }
 ],
 "metadata": {
  "kernelspec": {
   "display_name": "Python 3 (ipykernel)",
   "language": "python",
   "name": "python3"
  },
  "language_info": {
   "codemirror_mode": {
    "name": "ipython",
    "version": 3
   },
   "file_extension": ".py",
   "mimetype": "text/x-python",
   "name": "python",
   "nbconvert_exporter": "python",
   "pygments_lexer": "ipython3",
   "version": "3.10.9"
  }
 },
 "nbformat": 4,
 "nbformat_minor": 5
}
